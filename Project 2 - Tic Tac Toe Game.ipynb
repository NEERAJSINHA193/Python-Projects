{
 "cells": [
  {
   "cell_type": "code",
   "execution_count": 78,
   "metadata": {},
   "outputs": [],
   "source": [
    "from IPython.display import clear_output"
   ]
  },
  {
   "cell_type": "code",
   "execution_count": 79,
   "metadata": {},
   "outputs": [],
   "source": [
    "# function that can print out a board\n",
    "\n",
    "def display_board(board):\n",
    "    \n",
    "    clear_output()\n",
    "    \n",
    "    print('        -----------------')\n",
    "    print('        |    |     |    |')\n",
    "    print('        | '+ board[7] + '  |  ' + board[8] + '  |  ' + board[9] + ' |')\n",
    "    print('        |    |     |    |')\n",
    "    print('        -----------------')\n",
    "    print('        |    |     |    |')\n",
    "    print('        | '+ board[4] + '  |  ' + board[5] + '  |  ' + board[6] + ' |')\n",
    "    print('        |    |     |    |')\n",
    "    print('        -----------------')\n",
    "    print('        |    |     |    |')\n",
    "    print('        | '+ board[1] + '  |  ' + board[2] + '  |  ' + board[3] + ' |')\n",
    "    print('        |    |     |    |')\n",
    "    print('        -----------------')"
   ]
  },
  {
   "cell_type": "code",
   "execution_count": 80,
   "metadata": {},
   "outputs": [
    {
     "name": "stdout",
     "output_type": "stream",
     "text": [
      "        -----------------\n",
      "        |    |     |    |\n",
      "        | X  |  O  |  X |\n",
      "        |    |     |    |\n",
      "        -----------------\n",
      "        |    |     |    |\n",
      "        | O  |  X  |  O |\n",
      "        |    |     |    |\n",
      "        -----------------\n",
      "        |    |     |    |\n",
      "        | X  |  O  |  X |\n",
      "        |    |     |    |\n",
      "        -----------------\n"
     ]
    }
   ],
   "source": [
    "board1 = ['#','X','O','X','O','X','O','X','O','X']\n",
    "display_board(board1)"
   ]
  },
  {
   "cell_type": "code",
   "execution_count": 81,
   "metadata": {},
   "outputs": [],
   "source": [
    "# function that can take in a player input and assign their marker as 'X' or 'O'\n",
    "\n",
    "def player_input():\n",
    "    \n",
    "    marker = ''\n",
    "    \n",
    "    while marker not in ['O','X']:\n",
    "        \n",
    "        marker = input(\"Payer 1 : Do you want to be X or O ? \").upper()\n",
    "        \n",
    "    if marker == 'X':\n",
    "        return ('X','O')\n",
    "    else:\n",
    "        return ('O','X')"
   ]
  },
  {
   "cell_type": "code",
   "execution_count": 82,
   "metadata": {},
   "outputs": [
    {
     "name": "stdout",
     "output_type": "stream",
     "text": [
      "Payer 1 : Do you want to be X or O ? X\n"
     ]
    },
    {
     "data": {
      "text/plain": [
       "('X', 'O')"
      ]
     },
     "execution_count": 82,
     "metadata": {},
     "output_type": "execute_result"
    }
   ],
   "source": [
    "player_input()"
   ]
  },
  {
   "cell_type": "code",
   "execution_count": 83,
   "metadata": {},
   "outputs": [],
   "source": [
    "#function that takes in the board list object, a marker ('X' or 'O'), and a desired position (number 1-9) and assigns it \n",
    "#to the board\n",
    "\n",
    "def place_marker(board, marker, position):\n",
    "    board[position] = marker"
   ]
  },
  {
   "cell_type": "code",
   "execution_count": 84,
   "metadata": {},
   "outputs": [
    {
     "name": "stdout",
     "output_type": "stream",
     "text": [
      "        -----------------\n",
      "        |    |     |    |\n",
      "        | *  |  O  |  X |\n",
      "        |    |     |    |\n",
      "        -----------------\n",
      "        |    |     |    |\n",
      "        | O  |  X  |  O |\n",
      "        |    |     |    |\n",
      "        -----------------\n",
      "        |    |     |    |\n",
      "        | X  |  O  |  X |\n",
      "        |    |     |    |\n",
      "        -----------------\n"
     ]
    }
   ],
   "source": [
    "place_marker(board1, '*', 7)\n",
    "display_board(board1)"
   ]
  },
  {
   "cell_type": "code",
   "execution_count": 85,
   "metadata": {},
   "outputs": [],
   "source": [
    "# function that takes in a board and checks to see if someone has won\n",
    "\n",
    "def win_check(board, mark):\n",
    "    return ((board[7] == mark and board[8] == mark and board[9] == mark) or # across the top\n",
    "    (board[4] == mark and board[5] == mark and board[6] == mark) or         # across the middle\n",
    "    (board[1] == mark and board[2] == mark and board[3] == mark) or         # across the bottom\n",
    "    (board[7] == mark and board[4] == mark and board[1] == mark) or         # down the left side\n",
    "    (board[8] == mark and board[5] == mark and board[2] == mark) or         # down the middle\n",
    "    (board[9] == mark and board[6] == mark and board[3] == mark) or         # down the right side\n",
    "    (board[7] == mark and board[5] == mark and board[3] == mark) or         # diagonal 1\n",
    "    (board[9] == mark and board[5] == mark and board[1] == mark))           # diagonal 2"
   ]
  },
  {
   "cell_type": "code",
   "execution_count": 86,
   "metadata": {},
   "outputs": [
    {
     "data": {
      "text/plain": [
       "True"
      ]
     },
     "execution_count": 86,
     "metadata": {},
     "output_type": "execute_result"
    }
   ],
   "source": [
    "win_check(board1, 'X')"
   ]
  },
  {
   "cell_type": "code",
   "execution_count": 87,
   "metadata": {},
   "outputs": [],
   "source": [
    "# function that uses the random module to randomly decide which player goes first\n",
    "\n",
    "import random\n",
    "\n",
    "def choose_first():\n",
    "    if random.randint(0, 1) == 0:\n",
    "        return 'Player 2'\n",
    "    else:\n",
    "        return 'Player 1'"
   ]
  },
  {
   "cell_type": "code",
   "execution_count": 88,
   "metadata": {},
   "outputs": [],
   "source": [
    "# function that returns a boolean indicating whether a space on the board is freely available\n",
    "\n",
    "def space_check(board, position):\n",
    "    \n",
    "    return board[position] == ' '"
   ]
  },
  {
   "cell_type": "code",
   "execution_count": 89,
   "metadata": {},
   "outputs": [],
   "source": [
    "# function that checks if the board is full and returns a boolean value. True if full, False otherwise\n",
    "\n",
    "def full_board_check(board):\n",
    "    for i in range(1,10):\n",
    "        if space_check(board, i):\n",
    "            return False\n",
    "    return True"
   ]
  },
  {
   "cell_type": "code",
   "execution_count": 90,
   "metadata": {},
   "outputs": [],
   "source": [
    "# function that asks for a player's next position (as a number 1-9)\n",
    "\n",
    "def player_choice(board):\n",
    "    position = 0\n",
    "    \n",
    "    while position not in [1,2,3,4,5,6,7,8,9] or not space_check(board, position):\n",
    "        position = int(input('Choose your next position: (1-9) '))\n",
    "        \n",
    "    return position"
   ]
  },
  {
   "cell_type": "code",
   "execution_count": 91,
   "metadata": {},
   "outputs": [],
   "source": [
    "# function that asks the player if they want to play again\n",
    "\n",
    "def replay():\n",
    "    \n",
    "    return input('Do you want to play again? Enter Yes or No: ').lower().startswith('y')"
   ]
  },
  {
   "cell_type": "code",
   "execution_count": 92,
   "metadata": {},
   "outputs": [
    {
     "name": "stdout",
     "output_type": "stream",
     "text": [
      "        -----------------\n",
      "        |    |     |    |\n",
      "        | X  |     |    |\n",
      "        |    |     |    |\n",
      "        -----------------\n",
      "        |    |     |    |\n",
      "        | O  |  O  |  O |\n",
      "        |    |     |    |\n",
      "        -----------------\n",
      "        |    |     |    |\n",
      "        | X  |     |  X |\n",
      "        |    |     |    |\n",
      "        -----------------\n",
      "Congratulations! You have won the game!\n",
      "Do you want to play again? Enter Yes or No: N\n"
     ]
    }
   ],
   "source": [
    "# Used while loops and the functions we made to run the game\n",
    "\n",
    "while True:\n",
    "   \n",
    "    # Reset the board\n",
    "    theBoard = [' '] * 10\n",
    "    \n",
    "    player1_marker, player2_marker = player_input()\n",
    "    \n",
    "    turn = choose_first()\n",
    "    \n",
    "    print(turn + ' will go first.')\n",
    "    \n",
    "    play_game = input('Are you ready to play? Enter Yes or No.')\n",
    "    \n",
    "    if play_game.lower()[0] == 'y':\n",
    "        game_on = True\n",
    "    else:\n",
    "        game_on = False\n",
    "\n",
    "    while game_on:\n",
    "        \n",
    "        if turn == 'Player 1':\n",
    "            # Player1's turn.\n",
    "            \n",
    "            display_board(theBoard)\n",
    "            position = player_choice(theBoard)\n",
    "            place_marker(theBoard, player1_marker, position)\n",
    "\n",
    "            if win_check(theBoard, player1_marker):\n",
    "                display_board(theBoard)\n",
    "                print('Congratulations! You have won the game!')\n",
    "                game_on = False\n",
    "            else:\n",
    "                if full_board_check(theBoard):\n",
    "                    display_board(theBoard)\n",
    "                    print('The game is a draw!')\n",
    "                    break\n",
    "                else:\n",
    "                    turn = 'Player 2'\n",
    "\n",
    "        else:\n",
    "            # Player2's turn.\n",
    "            \n",
    "            display_board(theBoard)\n",
    "            position = player_choice(theBoard)\n",
    "            place_marker(theBoard, player2_marker, position)\n",
    "\n",
    "            if win_check(theBoard, player2_marker):\n",
    "                display_board(theBoard)\n",
    "                print('Player 2 has won!')\n",
    "                game_on = False\n",
    "            else:\n",
    "                if full_board_check(theBoard):\n",
    "                    display_board(theBoard)\n",
    "                    print('The game is a draw!')\n",
    "                    break\n",
    "                else:\n",
    "                    turn = 'Player 1'\n",
    "\n",
    "                    \n",
    "    if not replay():\n",
    "        break"
   ]
  },
  {
   "cell_type": "code",
   "execution_count": null,
   "metadata": {},
   "outputs": [],
   "source": []
  }
 ],
 "metadata": {
  "kernelspec": {
   "display_name": "Python 3",
   "language": "python",
   "name": "python3"
  },
  "language_info": {
   "codemirror_mode": {
    "name": "ipython",
    "version": 3
   },
   "file_extension": ".py",
   "mimetype": "text/x-python",
   "name": "python",
   "nbconvert_exporter": "python",
   "pygments_lexer": "ipython3",
   "version": "3.7.6"
  }
 },
 "nbformat": 4,
 "nbformat_minor": 4
}
